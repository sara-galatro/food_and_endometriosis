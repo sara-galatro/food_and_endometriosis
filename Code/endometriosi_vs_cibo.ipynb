{
 "cells": [
  {
   "attachments": {},
   "cell_type": "markdown",
   "metadata": {},
   "source": [
    "<center><img src=\"img/food.png\" width=\"30%\"/></center>"
   ]
  },
  {
   "attachments": {},
   "cell_type": "markdown",
   "metadata": {},
   "source": [
    "# L'endometriosi e il cibo\n",
    "\n",
    "L'endometriosi è una malattia cronica che debilita fortemente le persone che ne soffrono, sia fisicamente che psicologicamente. Biologicamente, si tratta di tessuto uterino che cresce al di fuori dell'utero, molto spesso vicino all'intestino: al momento, non vi è cura, ma solo delle terapie volte a limitare i sintomi di tale patologia. \n",
    "\n",
    "Tra le varie terapie, è altamente consigliata una dieta particolare che esclude cibi considerati infiammatori e suggerisce l'assunzione di cibi che invece tendono a sfiammare e a rilassare l'intestino. Questa dieta è stata studiata da un punto di vista prettamente chimico-biologico, ma coloro che soffrono di endometriosi hanno sempre fatto notare come per loro queste linee guida non solo non funzionassero, ma addirittura le facessero star peggio.\n",
    "\n",
    "Allora mi sono chiesta se ci fosse un modo di poter creare un sistema che, preso in input un vettore di valutazioni su alcuni cibi, fosse in grado di restituire in output una serie di cibi, diversi dall'input, con un coefficiente di sicurezza/pericolo personalizzato sull'esperienza del singolo, piuttosto che delle linee guida generiche."
   ]
  },
  {
   "attachments": {},
   "cell_type": "markdown",
   "metadata": {},
   "source": [
    "# Preparazione librerie e caricamento dati"
   ]
  },
  {
   "attachments": {},
   "cell_type": "markdown",
   "metadata": {},
   "source": [
    "Nel corso del notebook saranno caricate le varie funzioni necessarie sul momento, ma intanto carichiamo le librerie che saranno utlizzate in tutto il progetto: oltre alle librerie già viste a lezione, è caricata **surprise**, una libreria specializzata in sistemi di raccomandazione i cui algoritmi restituiscono direttamente la predizione del cibo voluto rispetto all'utente analizzato.\n",
    "\n",
    "Link: https://surpriselib.com/"
   ]
  },
  {
   "cell_type": "code",
   "execution_count": 24,
   "metadata": {},
   "outputs": [],
   "source": [
    "# carichiamo le librerie principali\n",
    "\n",
    "%matplotlib inline\n",
    "import matplotlib\n",
    "import matplotlib.pyplot as plt\n",
    "import random as rd\n",
    "from sklearn.metrics import confusion_matrix, ConfusionMatrixDisplay\n",
    "import numpy as np\n",
    "import pandas as pd\n",
    "import surprise"
   ]
  },
  {
   "attachments": {},
   "cell_type": "markdown",
   "metadata": {},
   "source": [
    "I dati provengono da un sondaggio effettuato tramite Facebook e passaparola mediante l'utilizzo di un form Google da me creato (https://forms.gle/T7Gba9441dZayLoe9). A coloro che hanno accettato di partecipare sono state chieste le seguenti informazioni:\n",
    "* Età\n",
    "* Da quanto tempo soffrano di endometriosi\n",
    "* Di dare un voto da 1 a 5 ai diciannove cibi proposti, dove 1 indica che il cibo in analisi non gli fa male e 5 invece indica che gli fa male\n",
    "\n",
    "Specifico che nel raccogliere tale valutazioni ho voluto includere anche un'opzione \"Non lo mangio per altri motivi\" così da tener conto di diete particolari, motivi religiosi o allergie e stare sicura di non considerare questi dati, così da evitare di falsare i risultati.\n",
    "\n",
    "Una volta chiuso il sondaggio, i dati sono stati esportati in cvs e ora li trasformeremo per praticità in un dataframe Pandas."
   ]
  },
  {
   "cell_type": "code",
   "execution_count": 25,
   "metadata": {},
   "outputs": [],
   "source": [
    "df = pd.read_csv('Dati/raw_data.csv')\n",
    "\n",
    "# rimuoviamo la colonna \"informazioni cronologiche\"\n",
    "# si tratta della data e dell'orario in cui è stato \n",
    "# compilato il sondaggio, quindi non ci interessa\n",
    "df = df.drop(['Informazioni cronologiche'], axis = 1)"
   ]
  },
  {
   "attachments": {},
   "cell_type": "markdown",
   "metadata": {},
   "source": [
    "Per praticità, codifichiamo i dati \"Non lo mangio per altri motivi\" con 0."
   ]
  },
  {
   "cell_type": "code",
   "execution_count": 26,
   "metadata": {},
   "outputs": [],
   "source": [
    "df[df == \"Non lo mangio per altri motivi\"] = 0"
   ]
  },
  {
   "attachments": {},
   "cell_type": "markdown",
   "metadata": {},
   "source": [
    "Inoltre, per fare una prima analisi dei dati, ci è utile avere codificati come numeri anche la colonna \"Da quanto soffre di endometriosi\"."
   ]
  },
  {
   "cell_type": "code",
   "execution_count": 27,
   "metadata": {},
   "outputs": [
    {
     "data": {
      "text/html": [
       "<div>\n",
       "<style scoped>\n",
       "    .dataframe tbody tr th:only-of-type {\n",
       "        vertical-align: middle;\n",
       "    }\n",
       "\n",
       "    .dataframe tbody tr th {\n",
       "        vertical-align: top;\n",
       "    }\n",
       "\n",
       "    .dataframe thead th {\n",
       "        text-align: right;\n",
       "    }\n",
       "</style>\n",
       "<table border=\"1\" class=\"dataframe\">\n",
       "  <thead>\n",
       "    <tr style=\"text-align: right;\">\n",
       "      <th></th>\n",
       "      <th>Età</th>\n",
       "      <th>Da quanto soffre di endometriosi?</th>\n",
       "      <th>Bibite gassate</th>\n",
       "      <th>Caffeina</th>\n",
       "      <th>Cannella</th>\n",
       "      <th>Carne bianca</th>\n",
       "      <th>Carne rossa</th>\n",
       "      <th>Cibi fritti</th>\n",
       "      <th>Curcuma</th>\n",
       "      <th>Frutta secca</th>\n",
       "      <th>...</th>\n",
       "      <th>Latticini</th>\n",
       "      <th>Legumi</th>\n",
       "      <th>Melanzane</th>\n",
       "      <th>Molluschi</th>\n",
       "      <th>Patate</th>\n",
       "      <th>Riso</th>\n",
       "      <th>Salmone</th>\n",
       "      <th>Salumi</th>\n",
       "      <th>Soia</th>\n",
       "      <th>Uova</th>\n",
       "    </tr>\n",
       "  </thead>\n",
       "  <tbody>\n",
       "    <tr>\n",
       "      <th>0</th>\n",
       "      <td>52</td>\n",
       "      <td>7</td>\n",
       "      <td>2</td>\n",
       "      <td>5</td>\n",
       "      <td>0</td>\n",
       "      <td>1</td>\n",
       "      <td>5</td>\n",
       "      <td>2</td>\n",
       "      <td>0</td>\n",
       "      <td>4</td>\n",
       "      <td>...</td>\n",
       "      <td>5</td>\n",
       "      <td>4</td>\n",
       "      <td>4</td>\n",
       "      <td>5</td>\n",
       "      <td>4</td>\n",
       "      <td>4</td>\n",
       "      <td>1</td>\n",
       "      <td>2</td>\n",
       "      <td>5</td>\n",
       "      <td>2</td>\n",
       "    </tr>\n",
       "    <tr>\n",
       "      <th>1</th>\n",
       "      <td>60</td>\n",
       "      <td>10</td>\n",
       "      <td>2</td>\n",
       "      <td>1</td>\n",
       "      <td>1</td>\n",
       "      <td>1</td>\n",
       "      <td>2</td>\n",
       "      <td>2</td>\n",
       "      <td>1</td>\n",
       "      <td>2</td>\n",
       "      <td>...</td>\n",
       "      <td>1</td>\n",
       "      <td>2</td>\n",
       "      <td>3</td>\n",
       "      <td>1</td>\n",
       "      <td>1</td>\n",
       "      <td>2</td>\n",
       "      <td>1</td>\n",
       "      <td>2</td>\n",
       "      <td>1</td>\n",
       "      <td>2</td>\n",
       "    </tr>\n",
       "    <tr>\n",
       "      <th>2</th>\n",
       "      <td>52</td>\n",
       "      <td>10</td>\n",
       "      <td>4</td>\n",
       "      <td>3</td>\n",
       "      <td>1</td>\n",
       "      <td>1</td>\n",
       "      <td>2</td>\n",
       "      <td>2</td>\n",
       "      <td>2</td>\n",
       "      <td>2</td>\n",
       "      <td>...</td>\n",
       "      <td>2</td>\n",
       "      <td>2</td>\n",
       "      <td>2</td>\n",
       "      <td>2</td>\n",
       "      <td>2</td>\n",
       "      <td>1</td>\n",
       "      <td>1</td>\n",
       "      <td>2</td>\n",
       "      <td>2</td>\n",
       "      <td>1</td>\n",
       "    </tr>\n",
       "    <tr>\n",
       "      <th>3</th>\n",
       "      <td>40</td>\n",
       "      <td>10</td>\n",
       "      <td>4</td>\n",
       "      <td>1</td>\n",
       "      <td>1</td>\n",
       "      <td>1</td>\n",
       "      <td>1</td>\n",
       "      <td>4</td>\n",
       "      <td>1</td>\n",
       "      <td>1</td>\n",
       "      <td>...</td>\n",
       "      <td>3</td>\n",
       "      <td>3</td>\n",
       "      <td>3</td>\n",
       "      <td>1</td>\n",
       "      <td>3</td>\n",
       "      <td>1</td>\n",
       "      <td>1</td>\n",
       "      <td>2</td>\n",
       "      <td>3</td>\n",
       "      <td>1</td>\n",
       "    </tr>\n",
       "    <tr>\n",
       "      <th>4</th>\n",
       "      <td>45</td>\n",
       "      <td>10</td>\n",
       "      <td>1</td>\n",
       "      <td>0</td>\n",
       "      <td>1</td>\n",
       "      <td>1</td>\n",
       "      <td>2</td>\n",
       "      <td>1</td>\n",
       "      <td>1</td>\n",
       "      <td>1</td>\n",
       "      <td>...</td>\n",
       "      <td>4</td>\n",
       "      <td>3</td>\n",
       "      <td>1</td>\n",
       "      <td>0</td>\n",
       "      <td>1</td>\n",
       "      <td>0</td>\n",
       "      <td>0</td>\n",
       "      <td>0</td>\n",
       "      <td>1</td>\n",
       "      <td>1</td>\n",
       "    </tr>\n",
       "    <tr>\n",
       "      <th>...</th>\n",
       "      <td>...</td>\n",
       "      <td>...</td>\n",
       "      <td>...</td>\n",
       "      <td>...</td>\n",
       "      <td>...</td>\n",
       "      <td>...</td>\n",
       "      <td>...</td>\n",
       "      <td>...</td>\n",
       "      <td>...</td>\n",
       "      <td>...</td>\n",
       "      <td>...</td>\n",
       "      <td>...</td>\n",
       "      <td>...</td>\n",
       "      <td>...</td>\n",
       "      <td>...</td>\n",
       "      <td>...</td>\n",
       "      <td>...</td>\n",
       "      <td>...</td>\n",
       "      <td>...</td>\n",
       "      <td>...</td>\n",
       "      <td>...</td>\n",
       "    </tr>\n",
       "    <tr>\n",
       "      <th>487</th>\n",
       "      <td>44</td>\n",
       "      <td>10</td>\n",
       "      <td>3</td>\n",
       "      <td>2</td>\n",
       "      <td>1</td>\n",
       "      <td>3</td>\n",
       "      <td>4</td>\n",
       "      <td>4</td>\n",
       "      <td>1</td>\n",
       "      <td>1</td>\n",
       "      <td>...</td>\n",
       "      <td>4</td>\n",
       "      <td>4</td>\n",
       "      <td>1</td>\n",
       "      <td>1</td>\n",
       "      <td>2</td>\n",
       "      <td>3</td>\n",
       "      <td>1</td>\n",
       "      <td>4</td>\n",
       "      <td>2</td>\n",
       "      <td>3</td>\n",
       "    </tr>\n",
       "    <tr>\n",
       "      <th>488</th>\n",
       "      <td>44</td>\n",
       "      <td>7</td>\n",
       "      <td>3</td>\n",
       "      <td>2</td>\n",
       "      <td>2</td>\n",
       "      <td>2</td>\n",
       "      <td>3</td>\n",
       "      <td>2</td>\n",
       "      <td>1</td>\n",
       "      <td>2</td>\n",
       "      <td>...</td>\n",
       "      <td>3</td>\n",
       "      <td>3</td>\n",
       "      <td>2</td>\n",
       "      <td>1</td>\n",
       "      <td>1</td>\n",
       "      <td>1</td>\n",
       "      <td>1</td>\n",
       "      <td>3</td>\n",
       "      <td>3</td>\n",
       "      <td>2</td>\n",
       "    </tr>\n",
       "    <tr>\n",
       "      <th>489</th>\n",
       "      <td>27</td>\n",
       "      <td>3</td>\n",
       "      <td>3</td>\n",
       "      <td>1</td>\n",
       "      <td>1</td>\n",
       "      <td>1</td>\n",
       "      <td>2</td>\n",
       "      <td>2</td>\n",
       "      <td>1</td>\n",
       "      <td>1</td>\n",
       "      <td>...</td>\n",
       "      <td>3</td>\n",
       "      <td>2</td>\n",
       "      <td>1</td>\n",
       "      <td>1</td>\n",
       "      <td>2</td>\n",
       "      <td>2</td>\n",
       "      <td>1</td>\n",
       "      <td>4</td>\n",
       "      <td>0</td>\n",
       "      <td>1</td>\n",
       "    </tr>\n",
       "    <tr>\n",
       "      <th>490</th>\n",
       "      <td>31</td>\n",
       "      <td>3</td>\n",
       "      <td>4</td>\n",
       "      <td>4</td>\n",
       "      <td>2</td>\n",
       "      <td>2</td>\n",
       "      <td>2</td>\n",
       "      <td>4</td>\n",
       "      <td>2</td>\n",
       "      <td>3</td>\n",
       "      <td>...</td>\n",
       "      <td>4</td>\n",
       "      <td>4</td>\n",
       "      <td>4</td>\n",
       "      <td>0</td>\n",
       "      <td>4</td>\n",
       "      <td>3</td>\n",
       "      <td>2</td>\n",
       "      <td>4</td>\n",
       "      <td>4</td>\n",
       "      <td>0</td>\n",
       "    </tr>\n",
       "    <tr>\n",
       "      <th>491</th>\n",
       "      <td>24</td>\n",
       "      <td>3</td>\n",
       "      <td>3</td>\n",
       "      <td>4</td>\n",
       "      <td>1</td>\n",
       "      <td>1</td>\n",
       "      <td>1</td>\n",
       "      <td>3</td>\n",
       "      <td>2</td>\n",
       "      <td>2</td>\n",
       "      <td>...</td>\n",
       "      <td>2</td>\n",
       "      <td>5</td>\n",
       "      <td>2</td>\n",
       "      <td>1</td>\n",
       "      <td>1</td>\n",
       "      <td>1</td>\n",
       "      <td>1</td>\n",
       "      <td>2</td>\n",
       "      <td>2</td>\n",
       "      <td>4</td>\n",
       "    </tr>\n",
       "  </tbody>\n",
       "</table>\n",
       "<p>492 rows × 21 columns</p>\n",
       "</div>"
      ],
      "text/plain": [
       "     Età  Da quanto soffre di endometriosi?  Bibite gassate  Caffeina  \\\n",
       "0     52                                  7               2         5   \n",
       "1     60                                 10               2         1   \n",
       "2     52                                 10               4         3   \n",
       "3     40                                 10               4         1   \n",
       "4     45                                 10               1         0   \n",
       "..   ...                                ...             ...       ...   \n",
       "487   44                                 10               3         2   \n",
       "488   44                                  7               3         2   \n",
       "489   27                                  3               3         1   \n",
       "490   31                                  3               4         4   \n",
       "491   24                                  3               3         4   \n",
       "\n",
       "     Cannella  Carne bianca  Carne rossa  Cibi fritti  Curcuma  Frutta secca  \\\n",
       "0           0             1            5            2        0             4   \n",
       "1           1             1            2            2        1             2   \n",
       "2           1             1            2            2        2             2   \n",
       "3           1             1            1            4        1             1   \n",
       "4           1             1            2            1        1             1   \n",
       "..        ...           ...          ...          ...      ...           ...   \n",
       "487         1             3            4            4        1             1   \n",
       "488         2             2            3            2        1             2   \n",
       "489         1             1            2            2        1             1   \n",
       "490         2             2            2            4        2             3   \n",
       "491         1             1            1            3        2             2   \n",
       "\n",
       "     ...  Latticini  Legumi  Melanzane  Molluschi  Patate  Riso  Salmone  \\\n",
       "0    ...          5       4          4          5       4     4        1   \n",
       "1    ...          1       2          3          1       1     2        1   \n",
       "2    ...          2       2          2          2       2     1        1   \n",
       "3    ...          3       3          3          1       3     1        1   \n",
       "4    ...          4       3          1          0       1     0        0   \n",
       "..   ...        ...     ...        ...        ...     ...   ...      ...   \n",
       "487  ...          4       4          1          1       2     3        1   \n",
       "488  ...          3       3          2          1       1     1        1   \n",
       "489  ...          3       2          1          1       2     2        1   \n",
       "490  ...          4       4          4          0       4     3        2   \n",
       "491  ...          2       5          2          1       1     1        1   \n",
       "\n",
       "     Salumi  Soia  Uova  \n",
       "0         2     5     2  \n",
       "1         2     1     2  \n",
       "2         2     2     1  \n",
       "3         2     3     1  \n",
       "4         0     1     1  \n",
       "..      ...   ...   ...  \n",
       "487       4     2     3  \n",
       "488       3     3     2  \n",
       "489       4     0     1  \n",
       "490       4     4     0  \n",
       "491       2     2     4  \n",
       "\n",
       "[492 rows x 21 columns]"
      ]
     },
     "execution_count": 27,
     "metadata": {},
     "output_type": "execute_result"
    }
   ],
   "source": [
    "# i valori sono solo simbolici\n",
    "# per le fasce di periodo si è preso \n",
    "# il punto medio dell'intervallo\n",
    "df[df == \"Più di 10 anni\"] = 10\n",
    "df[df == \"5-10 anni\"] = 7\n",
    "df[df == \"1-5 anni\"] = 3\n",
    "df[df == \"Meno di 1 anno\"] = 1\n",
    "\n",
    "# in una casella \"età\" sono presenti informazioni\n",
    "# non pertinenti a questo campo\n",
    "# modifichiamolo con il solo numero\n",
    "df[df == \"Valentina 51 anni\"] = 51\n",
    "\n",
    "# convertiamo il tipo del dataframe\n",
    "# per poter usare senza problemi molte funzioni\n",
    "df = df.astype(np.int64)\n",
    "\n",
    "df"
   ]
  },
  {
   "attachments": {},
   "cell_type": "markdown",
   "metadata": {},
   "source": [
    "Sempre per comodità, salviamo in due variabili predefinite il numero di esempi a nostra disposizione (*n_rows*) e di variabili (*n_cols*)."
   ]
  },
  {
   "cell_type": "code",
   "execution_count": 28,
   "metadata": {},
   "outputs": [],
   "source": [
    "n_rows = df.shape[0]\n",
    "n_cols = df.shape[1]"
   ]
  },
  {
   "attachments": {},
   "cell_type": "markdown",
   "metadata": {},
   "source": [
    "# Analisi distribuzione dei dati"
   ]
  },
  {
   "attachments": {},
   "cell_type": "markdown",
   "metadata": {},
   "source": [
    "Sappiamo che per l'endometriosi esiste già una dieta consigliata, quindi ci si potrebbe chiedere se creare un sistema di raccomandazione sia davvero così necessario. Per rispondere a tale domanda analizziamo i dati raccolti:"
   ]
  },
  {
   "cell_type": "code",
   "execution_count": 29,
   "metadata": {},
   "outputs": [
    {
     "data": {
      "image/png": "[encoded data removed]",
      "text/plain": [
       "<Figure size 1100x900 with 24 Axes>"
      ]
     },
     "metadata": {},
     "output_type": "display_data"
    }
   ],
   "source": [
    "columns = df.columns.to_list()\n",
    "\n",
    "# in questo caso ci interessano solo i cibi\n",
    "columns.remove(\"Età\")\n",
    "columns.remove(\"Da quanto soffre di endometriosi?\")\n",
    "\n",
    "# plottiamo gli istogrammi dei vari cibi\n",
    "df.hist(column = columns, figsize=(11,9), layout=(4, 6), \n",
    "        sharey=True, ylabelsize = 7, xlabelsize = 5);"
   ]
  },
  {
   "attachments": {},
   "cell_type": "markdown",
   "metadata": {},
   "source": [
    "I cibi su cui è stato fatto il sondaggio sono i cibi che la dieta consiglia/vieta di mangiare, ma, ad eccezione di alcuni cibi oggettivamente sicuri (come la carne bianca, con molti 1 e quasi nessun 5), possiamo notare come gli altri cibi siano più o meno equamente distribuiti: quindi sì, un sistema di raccomandazione che sia personalizzato sull'esperienza dell'utente potrebbe essere di aiuto nel creare una dieta specifica che aiuti chi soffra di endometriosi."
   ]
  },
  {
   "attachments": {},
   "cell_type": "markdown",
   "metadata": {},
   "source": [
    "Procediamo dunque con un'analisi preliminare su come i dati si relazionino tra loro andando a verificare se esista una qualche correlazione tra i dati. In particolare, ci interessa sapere se in qualche modo l'età o il periodo passato dalla diagnosi influiscano sulle valutazioni date:"
   ]
  },
  {
   "cell_type": "code",
   "execution_count": 30,
   "metadata": {},
   "outputs": [
    {
     "name": "stdout",
     "output_type": "stream",
     "text": [
      "Possibile correlazione tra Cannella - Curcuma : 0.5011589100785873\n",
      "La correlazione media è 0.16838459564683536\n"
     ]
    }
   ],
   "source": [
    "# done è la lista che evita di calcolare due volte \n",
    "# il coefficiente di correlazione, che sappiamo \n",
    "# essere una quantità simmetrica\n",
    "done = []\n",
    "corr =[]\n",
    "\n",
    "for col in df.columns:\n",
    "    for col2 in df.columns:\n",
    "        if col != col2 and (col2 not in done): \n",
    "\n",
    "            ph_corr = df[col].corr(df[col2])\n",
    "\n",
    "            # dato che ci sono molti coefficienti\n",
    "            # stampiamo solo quelli che indicano una \n",
    "            # correlazione importante, ossia solo se \n",
    "            # il coefficiente è maggiore di 0.50 \n",
    "            # o se è minore di -0.50\n",
    "            if ph_corr > 0.49 or ph_corr < -0.49:\n",
    "                print(\"Possibile correlazione tra\", col, \"-\", \n",
    "                      col2, \":\", ph_corr)\n",
    "            corr.append(ph_corr)\n",
    "    done.append(col)\n",
    "\n",
    "# calcoliamo la media delle correlazioni\n",
    "mean_corr = 0\n",
    "for ph in corr:\n",
    "    mean_corr += np.abs(ph)\n",
    "print(\"La correlazione media è\", mean_corr/len(corr))\n",
    "\n",
    "#print(corr)"
   ]
  },
  {
   "attachments": {},
   "cell_type": "markdown",
   "metadata": {},
   "source": [
    "Dalla media dei coefficienti risulta dunque che le colonne non siano poi così tanto correlate tra di loro (in generale, facendole stampare tutte si può vedere infatti che molti coefficienti sono quasi nulli) e, in particolare, ne possiamo dedurre che la reazione a determinati cibi non dipende nè dall'età, nè da quanto si soffre di endometriosi: possiamo dunque eliminare queste colonne e concentrare il nostro sistema di raccomandazione sulle sole votazioni.\n",
    "\n",
    "Evito di riportare la scatter_matrix date le dimensioni che avrebbe questa matrice."
   ]
  },
  {
   "cell_type": "code",
   "execution_count": 31,
   "metadata": {},
   "outputs": [],
   "source": [
    "df = df.drop([\"Da quanto soffre di endometriosi?\", \"Età\"], axis = 1)\n",
    "n_cols = len(df.columns)"
   ]
  },
  {
   "attachments": {},
   "cell_type": "markdown",
   "metadata": {},
   "source": [
    "# Formattazione dati per il pacchetto ````Surprise````"
   ]
  },
  {
   "attachments": {},
   "cell_type": "markdown",
   "metadata": {},
   "source": [
    "Prima di procedere con la creazione dei sistemi di raccomandazione, dobbiamo modificare il formato dei dati così da poter utilizzare la libreria `Surprise`: infatti, tale pacchetto, si aspetta in input una classe specifica chiamata *Dataset*, che può essere ottenuta utlizzando i dataset preesistenti o caricando i propri dati da un dataframe di dimensioni *N*x*3*, dove *N* è l'intero dato da *n_cols* per *n_rows* e le righe abbiano la forma \n",
    "$$\n",
    "[\"\\text{user-id}\"]   [\\text{\"item-id\"}] [\"\\text{rating}\"]\n",
    "$$\n",
    "\n",
    "Praticamente, `Surprise` richiede che il dataframe abbia una riga per ogni valutazione di ogni oggetto: nel nostro caso dunque avremmo *9348* righe e *3* colonne, chiamate rispettivamente \"users\", \"food e \"ratings\". In realtà avremo leggermente meno righe, a causa dei valori nulli che non vogliamo considerare."
   ]
  },
  {
   "attachments": {},
   "cell_type": "markdown",
   "metadata": {},
   "source": [
    "Ora possiamo creare un dataframe ausiliario che escluda le celle con valutazione nulla e che abbia il formato desiderato da `Surprise`."
   ]
  },
  {
   "cell_type": "code",
   "execution_count": 32,
   "metadata": {},
   "outputs": [
    {
     "name": "stdout",
     "output_type": "stream",
     "text": [
      "<class 'pandas.core.frame.DataFrame'>\n",
      "RangeIndex: 8644 entries, 0 to 8643\n",
      "Data columns (total 3 columns):\n",
      " #   Column   Non-Null Count  Dtype\n",
      "---  ------   --------------  -----\n",
      " 0   users    8644 non-null   int64\n",
      " 1   food     8644 non-null   int64\n",
      " 2   ratings  8644 non-null   int64\n",
      "dtypes: int64(3)\n",
      "memory usage: 202.7 KB\n"
     ]
    }
   ],
   "source": [
    "users = []\n",
    "food = []\n",
    "ratings = []\n",
    "\n",
    "for i in range(n_rows):\n",
    "    for j in range(n_cols):\n",
    "        if (df[df.columns[j]][i] != 0):\n",
    "            ratings.append(df[df.columns[j]][i])\n",
    "            users.append(i)\n",
    "            food.append(j)\n",
    "\n",
    "df_s = pd.DataFrame([users,food,ratings], \n",
    "                    index = ['users', 'food', 'ratings']).transpose()\n",
    "df_s.info()"
   ]
  },
  {
   "attachments": {},
   "cell_type": "markdown",
   "metadata": {},
   "source": [
    "Per aiutare l'apprendimento, modifichiamo leggermente i dati per renderli più diversi tra loro. Dopo alcune prove, uno dei valori migliori per tale operazione è risultato essere 5, così da allontanare i valori ma non troppo."
   ]
  },
  {
   "cell_type": "code",
   "execution_count": 33,
   "metadata": {},
   "outputs": [],
   "source": [
    "df_s = df_s * 5"
   ]
  },
  {
   "attachments": {},
   "cell_type": "markdown",
   "metadata": {},
   "source": [
    "Definiamo anche una funzione che, dato in input un numero, restituisce l'intero multiplo di cinque più vicino (ci servirà più tardi per valutare la performance dei modelli)."
   ]
  },
  {
   "cell_type": "code",
   "execution_count": 34,
   "metadata": {},
   "outputs": [],
   "source": [
    "def round_to_five(n):\n",
    "\n",
    "    # le predizioni sono float, ma il cast generico \n",
    "    # ci farebbe perdere informazioni importanti\n",
    "    n = round(n)    \n",
    "\n",
    "    # arrotondiamo al multiplo di 5 più vicino\n",
    "    r = n%5\n",
    "    if r == 1 or r == 2:\n",
    "        m = n - r\n",
    "    elif r == 3 or r == 4:\n",
    "        m = n + (5 - r)\n",
    "    elif r == 0:\n",
    "        m = n \n",
    "\n",
    "    return(m)"
   ]
  },
  {
   "attachments": {},
   "cell_type": "markdown",
   "metadata": {},
   "source": [
    "Per trasformare il dataframe in un oggetto *Dataset* useremo il *Reader*, una classe di `Surprise` che permette di \"leggere\" i dati e modificarli in un oggetto dataset: i parametri importanti da assegnare sono l'ordine delle colonne del dataframe da leggere e l'intervallo delle valutazioni."
   ]
  },
  {
   "cell_type": "code",
   "execution_count": 35,
   "metadata": {},
   "outputs": [],
   "source": [
    "# importiamo i pacchetti specifici\n",
    "from surprise import Dataset, Reader\n",
    "from surprise.model_selection.split import train_test_split\n",
    "\n",
    "reader = Reader(line_format='user item rating', rating_scale=[5,25])\n",
    "data = surprise.Dataset.load_from_df(df_s, reader)\n",
    "\n",
    "# creiamo trainset e testset\n",
    "trainset, testset = train_test_split(data, test_size=0.2, \n",
    "                                     random_state=42, shuffle=True)"
   ]
  },
  {
   "attachments": {},
   "cell_type": "markdown",
   "metadata": {},
   "source": [
    "# Sistema di raccomandazione 1: clustering KNN"
   ]
  },
  {
   "attachments": {},
   "cell_type": "markdown",
   "metadata": {},
   "source": [
    "Iniziamo importando i pacchetti e le funzioni specifiche che ci serviranno per questa sezione."
   ]
  },
  {
   "cell_type": "code",
   "execution_count": 36,
   "metadata": {},
   "outputs": [],
   "source": [
    "from surprise.model_selection import cross_validate\n",
    "from surprise.model_selection import GridSearchCV\n",
    "from surprise import KNNWithZScore\n",
    "from surprise import accuracy"
   ]
  },
  {
   "attachments": {},
   "cell_type": "markdown",
   "metadata": {},
   "source": [
    "Prima di eseguire l'algoritmo per le predizioni, dato che si tratta di un modello basato sul clustering KNN, cerchiamo il massimo numero di nodi nel cluster (parametro *k*) che ottimizzi il nostro risultato. A tale scopo sfruttiamo la funzione **GridSearchCV** del pacchetto `Surprise`, la quale, preso in input l'algoritmo e una griglia di valori possibili per gli iper-parametri, applica la cross validation per ognuno di questi valori e restituisce la combinazione migliore in termini della funzione costo scelta.\n",
    "\n",
    "In questo caso, i possibili valori di *k* sono ridotti solo a quattro dopo aver effettuato precedentemente delle ricerche a griglia con dimensioni più elevate.\n",
    "\n"
   ]
  },
  {
   "cell_type": "code",
   "execution_count": 37,
   "metadata": {},
   "outputs": [
    {
     "name": "stdout",
     "output_type": "stream",
     "text": [
      "Computing the msd similarity matrix...\n",
      "Done computing similarity matrix.\n",
      "Computing the msd similarity matrix...\n",
      "Done computing similarity matrix.\n",
      "Computing the msd similarity matrix...\n",
      "Done computing similarity matrix.\n",
      "Computing the msd similarity matrix...\n",
      "Done computing similarity matrix.\n",
      "Computing the msd similarity matrix...\n",
      "Done computing similarity matrix.\n",
      "Computing the msd similarity matrix...\n",
      "Done computing similarity matrix.\n",
      "Computing the msd similarity matrix...\n",
      "Done computing similarity matrix.\n",
      "Computing the msd similarity matrix...\n",
      "Done computing similarity matrix.\n",
      "Computing the msd similarity matrix...\n",
      "Done computing similarity matrix.\n",
      "Computing the msd similarity matrix...\n",
      "Done computing similarity matrix.\n",
      "Computing the msd similarity matrix...\n",
      "Done computing similarity matrix.\n",
      "Computing the msd similarity matrix...\n",
      "Done computing similarity matrix.\n",
      "Computing the msd similarity matrix...\n",
      "Done computing similarity matrix.\n",
      "Computing the msd similarity matrix...\n",
      "Done computing similarity matrix.\n",
      "Computing the msd similarity matrix...\n",
      "Done computing similarity matrix.\n",
      "Computing the msd similarity matrix...\n",
      "Done computing similarity matrix.\n",
      "Computing the msd similarity matrix...\n",
      "Done computing similarity matrix.\n",
      "Computing the msd similarity matrix...\n",
      "Done computing similarity matrix.\n",
      "Computing the msd similarity matrix...\n",
      "Done computing similarity matrix.\n",
      "Computing the msd similarity matrix...\n",
      "Done computing similarity matrix.\n",
      "Computing the msd similarity matrix...\n",
      "Done computing similarity matrix.\n",
      "Computing the msd similarity matrix...\n",
      "Done computing similarity matrix.\n",
      "Computing the msd similarity matrix...\n",
      "Done computing similarity matrix.\n",
      "Computing the msd similarity matrix...\n",
      "Done computing similarity matrix.\n",
      "Computing the msd similarity matrix...\n",
      "Done computing similarity matrix.\n",
      "Computing the msd similarity matrix...\n",
      "Done computing similarity matrix.\n",
      "Computing the msd similarity matrix...\n",
      "Done computing similarity matrix.\n",
      "Computing the msd similarity matrix...\n",
      "Done computing similarity matrix.\n"
     ]
    }
   ],
   "source": [
    "param_grid = {\n",
    "  'k': [111, 132, 154, 189],\n",
    "}\n",
    "\n",
    "gs = GridSearchCV(KNNWithZScore, param_grid, measures=['fcp', 'mae'], cv=7)\n",
    "gs.fit(data)\n",
    "\n",
    "# le celle sono state separate per evidenziare \n",
    "# gli output delle cella successiva"
   ]
  },
  {
   "cell_type": "code",
   "execution_count": 38,
   "metadata": {},
   "outputs": [
    {
     "name": "stdout",
     "output_type": "stream",
     "text": [
      "I migliori punteggi, mediati sulla cross validation, sono stati:\n",
      "fcp = 0.63378 \n",
      "mae = 3.85403\n",
      "con il parametro k = 111\n"
     ]
    }
   ],
   "source": [
    "# la variabile gs, per definizione, contiene \n",
    "# vari dizionari con i risultati della ricerca\n",
    "# indicizzati con il nome della misura\n",
    "print(\"I migliori punteggi, mediati sulla cross validation, sono stati:\")\n",
    "print(\"fcp =\", round(gs.best_score['fcp'],5), \n",
    "      \"\\nmae =\", round(gs.best_score['mae'],5))\n",
    "print(\"con il parametro k =\", gs.best_params['fcp'][\"k\"])\n",
    "\n",
    "# salviamo k\n",
    "k = gs.best_params['fcp'][\"k\"]"
   ]
  },
  {
   "attachments": {},
   "cell_type": "markdown",
   "metadata": {},
   "source": [
    "Nella grid search sono state utlizzate due metriche diverse, il **mae** e la **fcp**.\n",
    "\n",
    "Il **mae**, ossia il Mean Absolute Error su m esempi, è definito come\n",
    "$$\n",
    "mae = \\sum_{k=1}^m |\\hat{r}_k - r_k|\n",
    "$$\n",
    "La **fcp** invece è la Fraction of Concordant Pairs. Questa funzione costo viene definita nell'articolo *\"Collaborative Filtering on Ordinal User Feedback\"* di Koren et Sill come\n",
    "$$\n",
    "    fcp = \\frac{n_c}{n_c + n_d}\n",
    "$$ \n",
    "dove\n",
    "$$\n",
    "n_c = \\sum_{u} n_{c}^{u}\n",
    "$$\n",
    "e analogamente n_d per le coppie discordanti.\n",
    "Per coppie concordanti si intendono le coppie di predizioni che rispettano *l'ordine* delle vere valutazioni e vengono contate per utente:\n",
    "$$\n",
    "n_{u}^c = |\\{ (i,j): \\hat{r}_{ui}< \\hat{r}_{uj} \\text{ and } r_{ui} < r_{uj}\\}|\n",
    "$$\n",
    "Questa seconda misura è molto usata quando è più importante la classifica e la relazione tra le valutazioni del valore in sè che queste hanno, proprio come in questo caso."
   ]
  },
  {
   "attachments": {},
   "cell_type": "markdown",
   "metadata": {},
   "source": [
    "**Idea**\n",
    "\n",
    "L'idea di questo sistema di raccomandazione è di valutare i voti mancanti in base alle valutazioni degli utenti più *simili* all'utente analizzato. Questa similitudine sarà calcolata tramite una specifica distanza scelta tra **msd**, **cosine** e **pearson**.\n",
    "\n",
    "La distanza **msd** è basata sulla Mean Squared Difference, definita come\n",
    "$$\n",
    "    msd(u,v) = \\frac{1}{|I_{uv}|} \\sum_{i \\in I_{uv}} (r_{ui} - r_{vi})^2\n",
    "$$\n",
    "ossia, presi due utenti $u,v$, la distanza è calcolata sugli oggetti $i$ in in comune tra i due come somma di quadrati e poi mediata sul numero di questi oggetti comuni. Nel nostro caso, dunque, per ogni coppia $(u,v)$ saranno considerate solo i cibi per cui entrambi gli utenti abbiano dato una valutazione. La somiglianza tra gli utenti sarà dunque calcolata come\n",
    "$$\n",
    "    \\text{sim}_\\text{msd} (u,v) = \\frac{1}{1+ \\text{msd}(u,v)}\n",
    "$$\n",
    "dove il +1 al denominatore viene messo per evitare di dividere per zero.\n",
    "\n",
    "La somiglianza **cosine** è definita come\n",
    "$$\n",
    "    \\text{sim}_\\text{cosine} (u,v) = \\frac{\\sum_{i \\in I_{uv}} (r_{ui} \\cdot r_{vi})}\n",
    "    {\\sqrt{\\sum_{i \\in I_{uv}} r_{ui}^2} \\cdot \\sqrt{\\sum_{i \\in I_{uv}} r_{vi}^2}}\n",
    "$$\n",
    "dove vengono nuovamente considerati solo i cibi in comune. Questa metrica però non è molto utile in questo caso dato che tiene più conto del numero di occorrenze di un determinato valore che del valore in sé.\n",
    "\n",
    "Infine, ci sono due distanze basate sul coefficiente di correlazione di Pearson, ma in questo caso non ci sarebbero utili dato che i dati a nostra disposizione non presentano una grande correlazione tra di loro.\n",
    "\n",
    "Utilizzeremo dunque la distanza **msd** applicata agli utenti."
   ]
  },
  {
   "attachments": {},
   "cell_type": "markdown",
   "metadata": {},
   "source": [
    "Inoltre, dato che la dimensionalità dei dati è (relativamente) elevata, sarà implementato l'algoritmo KNN con la standardizzazione dei valori, così da tener conto di quanto i singoli voti influiscano sul determinare la posizione dell'utente nello spazio. Seguendo dunque questo procedimento, le predizioni saranno\n",
    "$$\n",
    "    \\hat{r}_{ui} = \\mu_u + \\sigma_u \\frac{\\sum_{v\\in N_{i}^{k}(u)} \\text{sim}(u,v) \\cdot (r_{vi} - \\mu_v)/\\sigma_v}{\\sum_{v\\in N_{i}^{k}(u)} \\text{sim}(u,v)}\n",
    "$$\n",
    "dove **sim** è la somiglianza tra gli utenti $u$ e $v$, con $v$ preso tra i vicini del'utente $u$ rispetto al cibo $i$, e i voti $r_{vi}$ sono standardizzati attraverso la classica trasformazione\n",
    "$$\n",
    "\\frac{r_{vi} - \\mu_v}{\\sigma_v}\n",
    "$$\n",
    "con $\\mu_v$ e $\\sigma_v$, rispettivamente, media e deviazione standard dei voti dell'utente $v$."
   ]
  },
  {
   "cell_type": "code",
   "execution_count": 39,
   "metadata": {},
   "outputs": [
    {
     "name": "stdout",
     "output_type": "stream",
     "text": [
      "L'accuratezza sul testset è:\n",
      "FCP:  0.6500\n",
      "MAE:  3.9221\n"
     ]
    }
   ],
   "source": [
    "# definiamo l'algoritmo con l'iperparametro trovato prima,\n",
    "# msd come distanza e specifichiamo che devono essere\n",
    "# confrontati tra loro gli utenti, non i cibi\n",
    "sim_options = {\n",
    "    \"name\": \"msd\",\n",
    "    \"user_based\": True, \n",
    "}\n",
    "alg = KNNWithZScore(k = k, verbose=False, sim_options = sim_options)\n",
    "\n",
    "# eseguiamo il fit sul trainset\n",
    "alg.fit(trainset)\n",
    "\n",
    "# prediamo le valutazioni del testset\n",
    "predictions = alg.test(testset)\n",
    "\n",
    "# stampiamo l'accuratezza con le metriche fcp e mae\n",
    "print(\"L'accuratezza sul testset è:\")\n",
    "accuracy.fcp(predictions);\n",
    "accuracy.mae(predictions);"
   ]
  },
  {
   "attachments": {},
   "cell_type": "markdown",
   "metadata": {},
   "source": [
    "A questo punto abbiamo a disposizione una lista di *prediction*. Questa classe identifica una tupla costruita con l'apposito scopo di condensare in una sola variabile tutte le informazioni utili in una predizione, ossia l'identificativo dell'user, l'identificativo del cibo, il vero valore (se noto), il valore stimato e dei dettagli sulla riuscita della predizione. Possiamo dunque valutare gli errori di stima in base alle nostre esigenze semplicemente estraendo le entrate **r_ui** e **est**, che identificano rispettivamente il vero valore per il cibo *i* dall'utente *u* e la stima del nostro algoritmo.\n",
    "\n",
    "É importante focalizzare quale sia lo scopo di questo sistema di raccomandazione: l'idea di questo progetto è creare un sistema che possa essere di aiuto alle persone e non ottenere una predizione esatta di ciò che potrebbero pensare gli utenti di un determinato cibo. Per questo motivo, ho deciso di non considerare come errori le stime errate di una sola classe: infatti, non mi interessa che un cibo sia valutato 1 invece di 2 (o viceversa) perché il relativo cibo sarebbe comunque reputato sicuro dal sistema, ma mi interessa che l'algoritmo non reputi sicuri dei cibi che invece sarebbero dannosi (del tipo \"vero = 5, predetto = 1\"). \n",
    "\n",
    "Dato che la stessa funzione sarà utilizzata anche nel secondo sistema di raccomandazione, definiamo una funzione ausiliaria per valutare le predizioni."
   ]
  },
  {
   "cell_type": "code",
   "execution_count": 40,
   "metadata": {},
   "outputs": [],
   "source": [
    "def error_count(predictions):\n",
    "\n",
    "    pred = []\n",
    "    true = []\n",
    "    errori_gravi = 0\n",
    "\n",
    "    for item in predictions:\n",
    "\n",
    "        # estraiamo il rating predetto e quello vero\n",
    "        ph_est = item.est\n",
    "        r_ui = item.r_ui\n",
    "\n",
    "        # arrotondiamo al multiplo di 5 più vicino\n",
    "        est = round_to_five(ph_est)\n",
    "\n",
    "        # salviamo i voti predetti e i voti veri\n",
    "        # nelle apposite liste, così da poter disegnare\n",
    "        # la matrice di confusione\n",
    "        pred.append(est)\n",
    "        true.append(r_ui)\n",
    "\n",
    "        # vediamo se la predizione è sbagliata \n",
    "        # di più di un punto\n",
    "        if np.abs(est - r_ui) >= 10 : errori_gravi += 1\n",
    "\n",
    "    frac = round(errori_gravi/len(predictions)*100, 2)\n",
    "\n",
    "    #print(errori_gravi, \"su\", len(predictions))\n",
    "    print(\"La percentuale di errori gravi è:\", frac)\n",
    "\n",
    "    return(pred, true)"
   ]
  },
  {
   "cell_type": "code",
   "execution_count": 41,
   "metadata": {},
   "outputs": [
    {
     "name": "stdout",
     "output_type": "stream",
     "text": [
      "La percentuale di errori gravi è: 14.34\n"
     ]
    },
    {
     "data": {
      "image/png": "[encoded data removed]",
      "text/plain": [
       "<Figure size 640x480 with 2 Axes>"
      ]
     },
     "metadata": {},
     "output_type": "display_data"
    }
   ],
   "source": [
    "# vediamo gli errori gravi\n",
    "pred, true = error_count(predictions)\n",
    "\n",
    "# creiamo la matrice di confusione\n",
    "cm = confusion_matrix(true, pred)\n",
    "disp = ConfusionMatrixDisplay(confusion_matrix=cm, display_labels =[1,2,3,4,5])\n",
    "disp.plot()\n",
    "plt.show()"
   ]
  },
  {
   "attachments": {},
   "cell_type": "markdown",
   "metadata": {},
   "source": [
    "# Sistema di raccomandazione 2: SVD"
   ]
  },
  {
   "attachments": {},
   "cell_type": "markdown",
   "metadata": {},
   "source": [
    "Dopo una prima implementazione di un metodo intuitivo, ho pensato di usare un altro metodo per calcolare le predizioni, ossia tramite la **Singular Vector Decomposition**, così come fu presentata al Netflix Prize. Il motivo di tale scelta è sia per confrontare due algoritmi con basi molto diverse, sia per ottenere una riduzione nel tempo di esecuzione.\n",
    "\n",
    "Introduciamo dunque il pacchetto necessario per la **SVD**."
   ]
  },
  {
   "cell_type": "code",
   "execution_count": 42,
   "metadata": {},
   "outputs": [],
   "source": [
    "from surprise import SVD"
   ]
  },
  {
   "attachments": {},
   "cell_type": "markdown",
   "metadata": {},
   "source": [
    "L'algoritmo SVD ha molti iper-parametri da dover considerare, ma noi focalizzeremo la nostra attenzione sul numero di fattori, sul numero di epochs e sui termini di regoralizzazione. Specifico che per i primi due iper-parametri non sono stati posti dei valori elevati dato il numero ridotto di esempi.\n",
    "\n",
    "Le metriche sono le stesse definite nel caso KNN."
   ]
  },
  {
   "cell_type": "code",
   "execution_count": 43,
   "metadata": {},
   "outputs": [
    {
     "name": "stdout",
     "output_type": "stream",
     "text": [
      "I migliori punteggi, mediati sulla cross validation, sono stati:\n",
      "fcp = 0.6351 \n",
      "mae = 3.74895\n",
      "con i parametri {'n_factors': 50, 'n_epochs': 5, 'lr_all': 0.005, 'reg_all': 0.002}\n"
     ]
    }
   ],
   "source": [
    "# definiamo la griglia\n",
    "param_grid = {\n",
    "  'n_factors': [20, 30, 50],\n",
    "  'n_epochs': [5, 7, 9],\n",
    "  \"lr_all\" : [0.005, 0.05, 0.5],\n",
    "  \"reg_all\": [0.002, 0.02, 0.2]\n",
    "}\n",
    " \n",
    "# effettuiamo la ricerca a griglia\n",
    "gs = GridSearchCV(SVD, param_grid, measures=['fcp', 'mae'], cv=7)\n",
    "gs.fit(data)\n",
    "\n",
    "# salviamo i parametri in variabili apposite\n",
    "n_factors = gs.best_params['fcp'][\"n_factors\"]\n",
    "n_epochs = gs.best_params['fcp'][\"n_epochs\"]\n",
    "reg_all = gs.best_params['fcp'][\"reg_all\"]\n",
    "lr_all = gs.best_params['fcp'][\"lr_all\"]\n",
    "\n",
    "# stampa\n",
    "print(\"I migliori punteggi, mediati sulla cross validation, sono stati:\")\n",
    "print(\"fcp =\", round(gs.best_score['fcp'],5), \n",
    "      \"\\nmae =\", round(gs.best_score['mae'],5))\n",
    "print(\"con i parametri\", gs.best_params['fcp'])"
   ]
  },
  {
   "attachments": {},
   "cell_type": "markdown",
   "metadata": {},
   "source": [
    "I sistemi di raccomandazione che si basano sulla fattorizzazione di matrici, generalmente, seguono il seguente schema: data una matrice $\\mathbf{R}$ del tipo $users$ x $items$ contenente le valutazioni degli utenti per i singoli oggetti, si cerca di approssimare le celle conosciute come prodotto di una matrice $\\mathbf{Q}$, che analizza i voti rispetto agli oggetti, e una matrice $\\mathbf{P}$, che invece li analizza rispetto agli utenti. \n",
    "\n",
    "<center><img src=\"img/matrix_fact.jpg\" width=\"75%\" /></center>\n",
    "\n",
    "Di solito, la matrice $\\mathbf{R}$ avrà dei valori mancanti e quindi è utile applicare un algoritmo come la SVD che riempa questi spazi vuoti con dei valori predetti come $\\hat{r}_{ui} = q_{i}^T p_u$.\n",
    "In particolare, seguendo la notazione SVD, $\\mathbf{R}$ è la matrice di input, $\\mathbf{Q} = \\mathbf{U}$ e $\\mathbf{P}^T = \\Sigma \\mathbf{V}^T$.\n",
    "\n",
    "Per poter stimare i valori mancanti, l'algoritmo cerca di minimizzare l'errore quadratico regolarizzato\n",
    "$$\n",
    "    \\sum_{r_{ui} \\in R_{train}} (r_{ui} - \\hat{r}_{ui})^2 + \\lambda (||q_i||^2 + ||p_i||^2)\n",
    "$$\n",
    "tramite l'algoritmo di discesa stocastica del gradiente:\n",
    "$$\n",
    "    p_u \\leftarrow p_u + \\eta(\\epsilon_{ui}\\cdot q_i - \\lambda p_u )\n",
    "    \\\\\n",
    "    q_i \\leftarrow q_i + \\eta(\\epsilon_{ui}\\cdot p_u - \\lambda q_i )\n",
    "$$\n",
    "dove $\\epsilon_{ui} = r_{ui} - \\hat{r}_{ui}$. Questi aggiornamenti sono eseguiti per ogni esempio nel training set, che viene analizzato per un numero fissato di epochs. Per quanto riguarda l'inizializzazione dei parametri, le matrici $\\mathbf{Q}$ e $\\mathbf{P}$ vengono inizializzate secondo una distribuzione normale di parametri $\\mu = 0$ e $\\sigma = 0.1$."
   ]
  },
  {
   "cell_type": "code",
   "execution_count": 44,
   "metadata": {},
   "outputs": [
    {
     "name": "stdout",
     "output_type": "stream",
     "text": [
      "L'accuratezza sul testset è:\n",
      "FCP:  0.6419\n",
      "MAE:  3.9409\n"
     ]
    }
   ],
   "source": [
    "# definizione metodo\n",
    "alg = SVD(n_factors = n_factors, n_epochs = n_epochs, \n",
    "          reg_all = reg_all , lr_all = lr_all, verbose = False)\n",
    "\n",
    "# fit sul training set\n",
    "alg.fit(trainset)\n",
    "\n",
    "# prediamo le valutazioni del testset\n",
    "predictions = alg.test(testset)\n",
    "\n",
    "# stampiamo l'accuratezza con le metriche fcp e mae\n",
    "print(\"L'accuratezza sul testset è:\")\n",
    "accuracy.fcp(predictions);\n",
    "accuracy.mae(predictions);"
   ]
  },
  {
   "attachments": {},
   "cell_type": "markdown",
   "metadata": {},
   "source": [
    "Analogamente al caso KNN, analizziamo i risultati ottenuti."
   ]
  },
  {
   "cell_type": "code",
   "execution_count": 45,
   "metadata": {},
   "outputs": [
    {
     "name": "stdout",
     "output_type": "stream",
     "text": [
      "La percentuale di errori gravi è: 14.63\n"
     ]
    },
    {
     "data": {
      "image/png": "[encoded data removed]",
      "text/plain": [
       "<Figure size 640x480 with 2 Axes>"
      ]
     },
     "metadata": {},
     "output_type": "display_data"
    }
   ],
   "source": [
    "# vediamo gli errori gravi\n",
    "pred, true = error_count(predictions)\n",
    "\n",
    "# creiamo la matrice di confusione\n",
    "cm = confusion_matrix(true, pred)\n",
    "disp = ConfusionMatrixDisplay(confusion_matrix=cm, display_labels =[1,2,3,4,5])\n",
    "disp.plot()\n",
    "plt.show()"
   ]
  },
  {
   "attachments": {},
   "cell_type": "markdown",
   "metadata": {},
   "source": [
    "# Conclusioni"
   ]
  },
  {
   "attachments": {},
   "cell_type": "markdown",
   "metadata": {},
   "source": [
    "I metodi presentati, nonostante due impostazioni molto diverse, portano a risultati molto simili tra di loro, con l'unica differenza sostanziale nel tempo di esecuzione dei due algoritmi e della relativa grid search.\n",
    "\n",
    "I risultati ottenuti sono ben lontani dall'essere perfetti, ma fanno ben sperare: se con così pochi dati e così codificati riusciamo ad ottenere già dei numeri di questo calibro, migliorando la qualità/quantità dei dati o anche provando degli algoritmi più sofisticati (come ad esempio l'**OrdRec** proposto da Koren et Sill nell'articolo *\"Collaborative Filtering on Ordinal User Feedback\"*) potremmo sicuramente riuscire a implementare un sistema molto più sicuro e più utile."
   ]
  }
 ],
 "metadata": {
  "kernelspec": {
   "display_name": "Python 3",
   "language": "python",
   "name": "python3"
  },
  "language_info": {
   "codemirror_mode": {
    "name": "ipython",
    "version": 3
   },
   "file_extension": ".py",
   "mimetype": "text/x-python",
   "name": "python",
   "nbconvert_exporter": "python",
   "pygments_lexer": "ipython3",
   "version": "3.10.7"
  },
  "orig_nbformat": 4,
  "vscode": {
   "interpreter": {
    "hash": "26de051ba29f2982a8de78e945f0abaf191376122a1563185a90213a26c5da77"
   }
  }
 },
 "nbformat": 4,
 "nbformat_minor": 2
}
